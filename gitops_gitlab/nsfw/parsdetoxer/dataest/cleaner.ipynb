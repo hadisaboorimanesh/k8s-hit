{
 "cells": [
  {
   "cell_type": "code",
   "execution_count": 20,
   "metadata": {},
   "outputs": [],
   "source": [
    "import pandas as pd\n",
    "import numpy as np\n",
    "from matplotlib import pyplot as plt\n",
    "import seaborn as sns\n",
    "import json\n",
    "from glob import glob\n",
    "import emoji\n",
    "import re"
   ]
  },
  {
   "cell_type": "code",
   "execution_count": 2,
   "metadata": {},
   "outputs": [],
   "source": [
    "data_pathes: list[str] = glob(\"dataest/toxic/[!twitter_crawl]*\")\n"
   ]
  },
  {
   "cell_type": "code",
   "execution_count": 3,
   "metadata": {},
   "outputs": [],
   "source": [
    "series = []\n",
    "for path in data_pathes:\n",
    "    series.append(\n",
    "        pd.DataFrame.from_dict(pd.read_json(path)['messages'].tolist())\n",
    "        )\n",
    "\n",
    "df = pd.concat(series, ignore_index=True)"
   ]
  },
  {
   "cell_type": "code",
   "execution_count": 5,
   "metadata": {},
   "outputs": [],
   "source": [
    "def preprocess(text: str):\n",
    "    chars = set(text)\n",
    "    removed_emoji = list(filter(lambda x: not emoji.is_emoji(x), chars))\n",
    "    if len(removed_emoji) > 5:\n",
    "        return text\n",
    "    return None"
   ]
  },
  {
   "cell_type": "code",
   "execution_count": 6,
   "metadata": {},
   "outputs": [
    {
     "data": {
      "text/plain": [
       "'زِندآنی شُدیم توکِشوَری کِع شُعآرِش آزآدیِع😹💋🏹🖇🌵'"
      ]
     },
     "execution_count": 6,
     "metadata": {},
     "output_type": "execute_result"
    }
   ],
   "source": [
    "preprocess(df.iloc[6832]['text'])"
   ]
  },
  {
   "cell_type": "code",
   "execution_count": 10,
   "metadata": {},
   "outputs": [],
   "source": [
    "cleaned_data = []\n",
    "for i in df['text']:\n",
    "    if type(i) == str:\n",
    "        if i != \"\":\n",
    "            cleaned_data.append({\"text\": preprocess(i), \"toxic\": 1})"
   ]
  },
  {
   "cell_type": "code",
   "execution_count": 11,
   "metadata": {},
   "outputs": [],
   "source": [
    "text_df = pd.DataFrame.from_dict(cleaned_data)"
   ]
  },
  {
   "cell_type": "code",
   "execution_count": 15,
   "metadata": {},
   "outputs": [],
   "source": [
    "text_df.dropna(inplace=True)"
   ]
  },
  {
   "cell_type": "code",
   "execution_count": 16,
   "metadata": {},
   "outputs": [],
   "source": [
    "text_df.to_csv(\"telegram.csv\", index=False)"
   ]
  },
  {
   "cell_type": "code",
   "execution_count": null,
   "metadata": {},
   "outputs": [],
   "source": []
  },
  {
   "attachments": {},
   "cell_type": "markdown",
   "metadata": {},
   "source": [
    "# Twitter"
   ]
  },
  {
   "cell_type": "code",
   "execution_count": 31,
   "metadata": {},
   "outputs": [],
   "source": [
    "twitts_df = pd.read_csv(\"dataest/not toxic/tweets-politicians.csv\")"
   ]
  },
  {
   "cell_type": "code",
   "execution_count": 30,
   "metadata": {},
   "outputs": [
    {
     "data": {
      "text/plain": [
       "'در اهمیّت حرکت به سوی #شایسته_سالاری https://twitter.com/abdollahram/status/853967665270063108\\xa0…'"
      ]
     },
     "execution_count": 30,
     "metadata": {},
     "output_type": "execute_result"
    }
   ],
   "source": [
    "twitts_df.iloc[84207]['tweet']"
   ]
  },
  {
   "cell_type": "code",
   "execution_count": 32,
   "metadata": {},
   "outputs": [],
   "source": [
    "def username_cleaner(text):\n",
    "    removed_username = re.sub('@[^\\s]+','',text)\n",
    "    return re.sub(r'http\\S+', '', removed_username)"
   ]
  },
  {
   "cell_type": "code",
   "execution_count": 40,
   "metadata": {},
   "outputs": [],
   "source": [
    "cleaned_twitter = twitts_df['text'].map(username_cleaner)"
   ]
  },
  {
   "cell_type": "code",
   "execution_count": 42,
   "metadata": {},
   "outputs": [],
   "source": [
    "cleaned_twitter = pd.DataFrame(cleaned_twitter, columns=['text'])"
   ]
  },
  {
   "cell_type": "code",
   "execution_count": 43,
   "metadata": {},
   "outputs": [],
   "source": [
    "cleaned_twitter['toxic'] = [1] * len(cleaned_twitter) "
   ]
  },
  {
   "cell_type": "code",
   "execution_count": 45,
   "metadata": {},
   "outputs": [],
   "source": [
    "cleaned_twitter.to_csv(\"twitter-toxic.csv\", index=False)"
   ]
  },
  {
   "attachments": {},
   "cell_type": "markdown",
   "metadata": {},
   "source": [
    "# tweet politician"
   ]
  },
  {
   "cell_type": "code",
   "execution_count": 51,
   "metadata": {},
   "outputs": [
    {
     "name": "stderr",
     "output_type": "stream",
     "text": [
      "/tmp/ipykernel_4509/3675416897.py:1: DtypeWarning: Columns (9) have mixed types. Specify dtype option on import or set low_memory=False.\n",
      "  twitts_df = pd.read_csv(\"dataest/not toxic/tweets-politicians.csv\")\n"
     ]
    }
   ],
   "source": [
    "twitts_df = pd.read_csv(\"dataest/not toxic/tweets-politicians.csv\")"
   ]
  },
  {
   "cell_type": "code",
   "execution_count": 49,
   "metadata": {},
   "outputs": [
    {
     "data": {
      "text/plain": [
       "Index(['id', 'conversation_id', 'created_at', 'date', 'time', 'timezone',\n",
       "       'user_id', 'username', 'name', 'place', 'tweet', 'mentions', 'urls',\n",
       "       'photos', 'replies_count', 'retweets_count', 'likes_count', 'hashtags',\n",
       "       'cashtags', 'link', 'retweet', 'quote_url', 'video', 'near', 'geo',\n",
       "       'source', 'user_rt_id', 'user_rt', 'retweet_id', 'reply_to',\n",
       "       'retweet_date', 'translate', 'trans_src', 'trans_dest'],\n",
       "      dtype='object')"
      ]
     },
     "execution_count": 49,
     "metadata": {},
     "output_type": "execute_result"
    }
   ],
   "source": [
    "twitts_df.keys()"
   ]
  },
  {
   "cell_type": "code",
   "execution_count": 62,
   "metadata": {},
   "outputs": [],
   "source": [
    "cleaned_twitter = twitts_df['tweet'].map(username_cleaner)\n",
    "cleaned_twitter = pd.DataFrame(cleaned_twitter, columns=['tweet']).rename(columns= {'tweet': 'text'})\n",
    "# cleaned_twitter = pd.DataFrame(cleaned_twitter, columns=['text'])\n",
    "cleaned_twitter['toxic'] = [0] * len(cleaned_twitter) \n",
    "cleaned_twitter.to_csv(\"twitter-notoxic.csv\", index=False)"
   ]
  },
  {
   "cell_type": "code",
   "execution_count": 56,
   "metadata": {},
   "outputs": [],
   "source": [
    "cleaned_twitter = twitts_df['tweet'].map(username_cleaner)"
   ]
  },
  {
   "cell_type": "code",
   "execution_count": 60,
   "metadata": {},
   "outputs": [
    {
     "data": {
      "text/html": [
       "<div>\n",
       "<style scoped>\n",
       "    .dataframe tbody tr th:only-of-type {\n",
       "        vertical-align: middle;\n",
       "    }\n",
       "\n",
       "    .dataframe tbody tr th {\n",
       "        vertical-align: top;\n",
       "    }\n",
       "\n",
       "    .dataframe thead th {\n",
       "        text-align: right;\n",
       "    }\n",
       "</style>\n",
       "<table border=\"1\" class=\"dataframe\">\n",
       "  <thead>\n",
       "    <tr style=\"text-align: right;\">\n",
       "      <th></th>\n",
       "      <th>text</th>\n",
       "    </tr>\n",
       "  </thead>\n",
       "  <tbody>\n",
       "    <tr>\n",
       "      <th>0</th>\n",
       "      <td>نسل جوان ما بحمدالله الگوهای درخشان و برجسته و...</td>\n",
       "    </tr>\n",
       "    <tr>\n",
       "      <th>1</th>\n",
       "      <td>نسل جوانی که در مسیر #علم_نافع، برای پیشرفت کش...</td>\n",
       "    </tr>\n",
       "    <tr>\n",
       "      <th>2</th>\n",
       "      <td>کودک و نوجوان و جوان در کشور اسلامی می‌آموزد ک...</td>\n",
       "    </tr>\n",
       "    <tr>\n",
       "      <th>3</th>\n",
       "      <td>در مدرسه نبوت،نسلهای بشر با کتاب وحکمت،آموزش و...</td>\n",
       "    </tr>\n",
       "    <tr>\n",
       "      <th>4</th>\n",
       "      <td>این سخن امام خمینی که معلمی را شغل انبیا دانست...</td>\n",
       "    </tr>\n",
       "    <tr>\n",
       "      <th>...</th>\n",
       "      <td>...</td>\n",
       "    </tr>\n",
       "    <tr>\n",
       "      <th>84205</th>\n",
       "      <td>این گفتگو در جمع دوستان بدرقه کننده و پیش از ع...</td>\n",
       "    </tr>\n",
       "    <tr>\n",
       "      <th>84206</th>\n",
       "      <td>نقش #احمدی_نژاد در تعطیل شدن دانشگاه‌ها به بها...</td>\n",
       "    </tr>\n",
       "    <tr>\n",
       "      <th>84207</th>\n",
       "      <td>در اهمیّت حرکت به سوی #شایسته_سالاری  …</td>\n",
       "    </tr>\n",
       "    <tr>\n",
       "      <th>84208</th>\n",
       "      <td>تأکید 9چهره اصلاحات بر شایسته سالاری\\nنامه به ...</td>\n",
       "    </tr>\n",
       "    <tr>\n",
       "      <th>84209</th>\n",
       "      <td>میردامادی: منحصر کردن مذاکرات به #برجام اشتباه...</td>\n",
       "    </tr>\n",
       "  </tbody>\n",
       "</table>\n",
       "<p>84210 rows × 1 columns</p>\n",
       "</div>"
      ],
      "text/plain": [
       "                                                    text\n",
       "0      نسل جوان ما بحمدالله الگوهای درخشان و برجسته و...\n",
       "1      نسل جوانی که در مسیر #علم_نافع، برای پیشرفت کش...\n",
       "2      کودک و نوجوان و جوان در کشور اسلامی می‌آموزد ک...\n",
       "3      در مدرسه نبوت،نسلهای بشر با کتاب وحکمت،آموزش و...\n",
       "4      این سخن امام خمینی که معلمی را شغل انبیا دانست...\n",
       "...                                                  ...\n",
       "84205  این گفتگو در جمع دوستان بدرقه کننده و پیش از ع...\n",
       "84206  نقش #احمدی_نژاد در تعطیل شدن دانشگاه‌ها به بها...\n",
       "84207            در اهمیّت حرکت به سوی #شایسته_سالاری  …\n",
       "84208  تأکید 9چهره اصلاحات بر شایسته سالاری\\nنامه به ...\n",
       "84209  میردامادی: منحصر کردن مذاکرات به #برجام اشتباه...\n",
       "\n",
       "[84210 rows x 1 columns]"
      ]
     },
     "execution_count": 60,
     "metadata": {},
     "output_type": "execute_result"
    }
   ],
   "source": [
    "pd.DataFrame(cleaned_twitter, columns=['tweet']).rename(columns= {'tweet': 'text'})"
   ]
  },
  {
   "cell_type": "code",
   "execution_count": 67,
   "metadata": {},
   "outputs": [],
   "source": [
    "series = []\n",
    "for path in ['telegram.csv', \"twitter-notoxic.csv\", \"twitter-toxic.csv\"]:\n",
    "    series.append(\n",
    "        pd.read_csv(path)\n",
    "        )\n",
    "\n",
    "df = pd.concat(series, ignore_index=True)"
   ]
  },
  {
   "cell_type": "code",
   "execution_count": 73,
   "metadata": {},
   "outputs": [],
   "source": [
    "df.dropna(inplace=True)"
   ]
  },
  {
   "cell_type": "code",
   "execution_count": 76,
   "metadata": {},
   "outputs": [],
   "source": [
    "df.toxic = df.toxic.astype(int)"
   ]
  },
  {
   "cell_type": "code",
   "execution_count": 77,
   "metadata": {},
   "outputs": [],
   "source": [
    "df.to_csv(\"dataset.csv\")"
   ]
  },
  {
   "cell_type": "code",
   "execution_count": null,
   "metadata": {},
   "outputs": [],
   "source": []
  }
 ],
 "metadata": {
  "kernelspec": {
   "display_name": "crawler",
   "language": "python",
   "name": "python3"
  },
  "language_info": {
   "codemirror_mode": {
    "name": "ipython",
    "version": 3
   },
   "file_extension": ".py",
   "mimetype": "text/x-python",
   "name": "python",
   "nbconvert_exporter": "python",
   "pygments_lexer": "ipython3",
   "version": "3.10.8"
  },
  "orig_nbformat": 4,
  "vscode": {
   "interpreter": {
    "hash": "cf12b3ec2c72d9adbba307879468a4197f13b3486bd2622db74004c5a532e42e"
   }
  }
 },
 "nbformat": 4,
 "nbformat_minor": 2
}
